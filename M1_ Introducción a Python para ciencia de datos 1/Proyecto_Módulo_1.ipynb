{
  "cells": [
    {
      "cell_type": "markdown",
      "metadata": {
        "id": "j3a6p44uZmnB"
      },
      "source": [
        "# Proyecto Módulo 1"
      ]
    },
    {
      "cell_type": "code",
      "source": [
        "import pandas as pd\n",
        "import seaborn as sns\n",
        "import numpy as np\n",
        "import matplotlib.pyplot as plt\n",
        "from mpl_toolkits import mplot3d\n",
        "sns.set_theme(style=\"whitegrid\")\n",
        "\n",
        "%matplotlib inline\n",
        "plt.rcParams[\"figure.figsize\"] = (8, 6)\n",
        "\n",
        "import warnings\n",
        "warnings.filterwarnings('ignore')"
      ],
      "metadata": {
        "id": "cBZOWk4tB8ZF"
      },
      "execution_count": null,
      "outputs": []
    },
    {
      "cell_type": "markdown",
      "source": [
        "# Matplotlib"
      ],
      "metadata": {
        "id": "EVkx4eJWFrii"
      }
    },
    {
      "cell_type": "markdown",
      "source": [
        "## Mobius Strip\n",
        "\n",
        "En este desafío, vas a construir y visualizar en 3D una **cinta de Möbius**, una figura fascinante que tiene una sola cara y un solo borde.  \n",
        "\n",
        "---\n",
        "\n",
        "## 🎯 Objetivos de aprendizaje\n",
        "\n",
        "- Comprender cómo usar `np.meshgrid` para crear superficies paramétricas.\n",
        "- Aplicar transformaciones matemáticas para construir una cinta de Möbius.\n",
        "- Visualizar una superficie 3D compleja usando `Matplotlib` con `plot_trisurf`.\n",
        "- Personalizar el gráfico: etiquetas, ángulo de cámara, colores, transparencia…\n",
        "\n",
        "---\n",
        "\n",
        "## 🧩 Planteamiento del problema\n",
        "\n",
        "La cinta de Möbius se puede generar matemáticamente deformando un anillo circular.  \n",
        "Usarás dos variables:\n",
        "\n",
        "- `θ` (theta): un ángulo que recorre el círculo completo de 0 a 2π.\n",
        "- `w`: una coordenada que representa el ancho de la cinta, de −0.25 a +0.25.\n",
        "\n",
        "Para cada punto de la cinta, se define:\n",
        "\n",
        "- Una deformación del radio: `r = 1 + w * cos(θ / 2)`\n",
        "- Coordenadas 3D:\n",
        "  - `x = r * cos(θ)`\n",
        "  - `y = r * sin(θ)`\n",
        "  - `z = w * sin(θ / 2)`\n",
        "\n",
        "---\n",
        "\n",
        "## 🛠️ Tareas\n",
        "\n",
        "1. **Importa las bibliotecas necesarias**: `numpy` y `matplotlib`.\n",
        "2. **Genera la malla** de puntos `theta` y `w` con `np.meshgrid`.\n",
        "3. **Calcula las coordenadas (x, y, z)** aplicando las fórmulas anteriores.\n",
        "4. **Usa `plot_trisurf` para trazar la superficie**.\n",
        "5. Ajusta los **límites**, **etiquetas** de ejes, **colores** y el **ángulo de cámara** para que la visualización sea clara y atractiva.\n",
        "6. (Opcional) Añade una barra de color o modifica el colormap.\n",
        "\n",
        "---\n",
        "\n",
        "## 🎨 Pistas\n",
        "\n",
        "- Usa `np.linspace(0, 2*np.pi, 30)` para `theta` y `np.linspace(-0.25, 0.25, 8)` para `w`.\n",
        "- Usa `np.ravel()` para aplanar las matrices y poder pasarlas a `plot_trisurf`.\n",
        "- Ajusta `ax.view_init(elevación, azimut)` para un buen ángulo de vista.\n",
        "- Usa `cmap='viridis'`, `'plasma'`, `'coolwarm'`, o el que más te guste.\n",
        "\n",
        "---\n",
        "\n",
        "## 📌 ¿Qué entregas?\n",
        "\n",
        "Un gráfico 3D interactivo que muestre la cinta de Möbius completa, con etiquetas de ejes, color bien aplicado, y un ángulo de cámara agradable.\n",
        "\n",
        "> ¿Puedes explicarle a un compañero por qué esta figura tiene **una sola cara**?\n",
        "\n",
        "---\n",
        "\n",
        "¡Buena suerte! 🌈🚀\n"
      ],
      "metadata": {
        "id": "BlA9cdx1hSz5"
      }
    },
    {
      "cell_type": "code",
      "execution_count": null,
      "metadata": {
        "id": "FZHr7F4hf5AK"
      },
      "outputs": [],
      "source": [
        "# data\n",
        "\n",
        "\n",
        "# radius\n",
        "r =\n",
        "\n",
        "# x, y, z\n",
        "x = np.ravel()\n",
        "y = np.ravel()\n",
        "z = np.ravel()"
      ]
    },
    {
      "cell_type": "code",
      "source": [
        "# 🎨 Inicio del gráfico\n",
        "\n",
        "\n",
        "# 🌈 Dibujar la superficie de la cinta de Möbius\n",
        "\n",
        "\n",
        "# 📏 Límites (ajustados para que el gráfico no se corte)\n",
        "ax.set_xlim(-1.5, 1.5)\n",
        "ax.set_ylim(-1.5, 1.5)\n",
        "ax.set_zlim(-0.5, 0.5)\n",
        "\n",
        "# 🏷️ Etiquetas de ejes\n",
        "\n",
        "\n",
        "# 🔄 Ángulo de cámara\n",
        "ax.view_init(10, 65)\n",
        "\n",
        "# 🖼️ Mostrar figura\n",
        "plt.show()"
      ],
      "metadata": {
        "id": "z9k-v8Tjg7s5"
      },
      "execution_count": null,
      "outputs": []
    },
    {
      "cell_type": "markdown",
      "source": [
        "# Numpy"
      ],
      "metadata": {
        "id": "vY853blgDnTB"
      }
    },
    {
      "cell_type": "markdown",
      "source": [
        "## 🧠 Perceptrones para Compuertas Lógicas AND y OR\n",
        "\n",
        "En este desafío, entrenarás dos **perceptrones** (neuronas artificiales) para modelar el comportamiento de las compuertas lógicas **AND** y **OR** usando **NumPy**.\n",
        "\n",
        "---\n",
        "\n",
        "## 🎯 Objetivos de aprendizaje\n",
        "\n",
        "- Comprender el algoritmo de aprendizaje del perceptrón y su regla de actualización.  \n",
        "- Implementar en NumPy una función de activación sigmoide suavizada.  \n",
        "- Entrenar perceptrones que resuelvan funciones linealmente separables.  \n",
        "- Registrar y graficar la evolución del error durante el entrenamiento.\n",
        "\n",
        "---\n",
        "\n",
        "## 🧩 Planteamiento del problema\n",
        "\n",
        "El perceptrón calcula la salida  \n",
        "\n",
        "$$\n",
        "s = \\sigma(\\mathbf{w} \\cdot \\mathbf{x} + b)\n",
        "$$\n",
        "\n",
        "donde:\n",
        "\n",
        "- $(\\mathbf{w} \\in \\mathbb{R}^2)$ son los **pesos**.  \n",
        "- $(b \\in \\mathbb{R})$ es el **sesgo** (*bias*).  \n",
        "- $(\\sigma)$ es la función de activación *sigmoide suavizada*:\n",
        "\n",
        "$$\n",
        "\\sigma(x)=\n",
        "\\begin{cases}\n",
        "0 & \\text{si } x < -5 \\\\\\\\\n",
        "1 & \\text{si } x > 5 \\\\\\\\\n",
        "\\frac{1}{1 + e^{-x}} & \\text{en otro caso}\n",
        "\\end{cases}\n",
        "$$\n",
        "\n",
        "Como conjunto de entrenamiento se usan las tablas de verdad de AND y OR:\n",
        "\n",
        "$$\n",
        "\\mathbf{X} =\n",
        "\\begin{bmatrix}\n",
        "1 & 1 \\\\\\\\\n",
        "1 & 0 \\\\\\\\\n",
        "0 & 1 \\\\\\\\\n",
        "0 & 0\n",
        "\\end{bmatrix},\n",
        "\\quad\n",
        "\\mathbf{Y}_{AND} =\n",
        "\\begin{bmatrix}\n",
        "1 \\\\\\\\\n",
        "0 \\\\\\\\\n",
        "0 \\\\\\\\\n",
        "0\n",
        "\\end{bmatrix},\n",
        "\\quad\n",
        "\\mathbf{Y}_{OR} =\n",
        "\\begin{bmatrix}\n",
        "1 \\\\\\\\\n",
        "1 \\\\\\\\\n",
        "1 \\\\\\\\\n",
        "0\n",
        "\\end{bmatrix}\n",
        "$$\n",
        "\n",
        "Cada puerta lógica se aprende con su propio perceptrón.\n",
        "\n",
        "---\n",
        "\n",
        "## 🛠️ Tareas\n",
        "\n",
        "1. **Importa** las bibliotecas: `numpy` (y `matplotlib.pyplot` para el gráfico).  \n",
        "2. **Define** la función `sigmoid_soft(x)` descrita arriba (usa `np.where`).  \n",
        "3. **Inicializa** pesos `w` (por ejemplo, `np.random.randn(2)`) y sesgo `b = 0`.  \n",
        "4. **Implementa el bucle de entrenamiento**:  \n",
        "   - Para cada muestra `(x_i, y_i)` calcula `ŷ_i = sigmoid_soft(w·x_i + b)`.  \n",
        "   - Calcula el error `ε_i = y_i - ŷ_i`.  \n",
        "   - Actualiza `w ← w + η · ε_i · x_i` y `b ← b + η · ε_i`.  \n",
        "   - Suma `|ε_i|` en `error_epoch`.  \n",
        "5. **Repite** hasta que `error_epoch` sea 0 o alcances un número máximo de epochs.  \n",
        "6. **Registra** `error_epoch` en una lista para graficarlo al final.  \n",
        "7. **Grafica** la evolución del error para AND (azul) y OR (naranja).  \n",
        "8. **Muestra** los pesos finales y verifica que las predicciones coinciden con la tabla de verdad.\n",
        "\n",
        "---\n",
        "\n",
        "## 🎨 Pistas\n",
        "\n",
        "- Utiliza `η = 0.1` como **tasa de aprendizaje** inicial.  \n",
        "- Con cuatro muestras, un máximo de **50–100 epochs** suele ser suficiente.  \n",
        "- Para el gráfico:\n",
        "\n",
        "  ```python\n",
        "  plt.plot(errors_and, label='AND')\n",
        "  plt.plot(errors_or, label='OR')\n",
        "  plt.xlabel('Época')\n",
        "  plt.ylabel('Error absoluto acumulado')\n",
        "  plt.legend()\n",
        "  plt.ylim(-0.5, 4.5)\n",
        "\n",
        "- Para el gráfico comparativo:\n",
        "\n",
        "  ```python\n",
        "  labels = [\"11\", \"10\", \"01\", \"00\"]\n",
        "  x = np.arange(len(labels))\n",
        "  width = 0.35\n",
        "\n",
        "  fig, ax = plt.subplots()\n",
        "  ax.bar(x - width/2, y_true, width, label='Real')\n",
        "  ax.bar(x + width/2, y_pred.round(), width, label='Predicho')\n",
        "\n",
        "  ax.set_xticks(x)\n",
        "  ax.set_xticklabels(labels)\n",
        "  ax.set_ylabel('Salida')\n",
        "  ax.set_title('Comparación Real vs Predicho')\n",
        "  ax.legend()\n",
        "  plt.show()\n"
      ],
      "metadata": {
        "id": "95hekzS0GJ6b"
      }
    },
    {
      "cell_type": "code",
      "source": [
        "# ────────────────────────────────\n",
        "# 1. Funciones auxiliares\n",
        "# ────────────────────────────────\n",
        "\n",
        "# ───────────────────────────────────────────────\n",
        "# a. Sigmoide suavizada\n",
        "# ───────────────────────────────────────────────\n",
        "def sigmoid_soft(z):\n",
        "    \"\"\"\n",
        "    Calcula la sigmoide suavizada:\n",
        "        - Devuelve 0 si z < -5\n",
        "        - Devuelve 1 si z > 5\n",
        "        - En el resto, aplica 1 / (1 + e^{-z})\n",
        "\n",
        "    Acepta escalares o arrays 1D/2D.\n",
        "    \"\"\"\n",
        "    z = np.asarray(z, dtype=float)\n",
        "    return ........."
      ],
      "metadata": {
        "id": "6IzlbzNbMqyi"
      },
      "execution_count": null,
      "outputs": []
    },
    {
      "cell_type": "code",
      "source": [
        "# ───────────────────────────────────────────────\n",
        "# b. Entrenamiento del perceptrón\n",
        "# ───────────────────────────────────────────────\n",
        "def train_perceptron(X, y, eta=0.1, max_epochs=100):\n",
        "    \"\"\"\n",
        "    Entrena un perceptrón de 2 entradas usando la regla clásica de aprendizaje.\n",
        "\n",
        "    Parámetros\n",
        "    ----------\n",
        "    X : array (n_samples, 2)\n",
        "        Vectores de entrada.\n",
        "    y : array (n_samples,)\n",
        "        Etiquetas (0/1).\n",
        "    eta : float\n",
        "        Tasa de aprendizaje.\n",
        "    max_epochs : int\n",
        "        Número máximo de pasadas por el conjunto de datos.\n",
        "\n",
        "    Devuelve\n",
        "    --------\n",
        "    w : array (2,)\n",
        "        Pesos finales.\n",
        "    b : float\n",
        "        Sesgo final.\n",
        "    errors : list\n",
        "        Error absoluto acumulado por época.\n",
        "    \"\"\"\n",
        "    w = np.random.randn(2)   # Pesos aleatorios\n",
        "    b = 0.0                  # Sesgo inicial\n",
        "    errors = []\n",
        "\n",
        "\n",
        "\n",
        "    return w, b, errors"
      ],
      "metadata": {
        "id": "1DJKtGGuBw0e"
      },
      "execution_count": null,
      "outputs": []
    },
    {
      "cell_type": "code",
      "source": [
        "# ───────────────────────────────────────────────\n",
        "# c. Predicción con el modelo entrenado\n",
        "# ───────────────────────────────────────────────\n",
        "def predict(X, w, b):\n",
        "    \"\"\"\n",
        "    Predice las salidas del perceptrón entrenado para cada fila de X.\n",
        "    Devuelve un array con las probabilidades (entre 0 y 1).\n",
        "    \"\"\"\n",
        "    preds = []\n"
      ],
      "metadata": {
        "id": "oyVUh-cfBxDu"
      },
      "execution_count": null,
      "outputs": []
    },
    {
      "cell_type": "code",
      "source": [
        "# ────────────────────────────────\n",
        "# 2. Datos (tablas de verdad)\n",
        "# ────────────────────────────────\n",
        "X = np.array([], dtype=float)\n",
        "\n",
        "y_and = np.array([], dtype=float)\n",
        "y_or  = np.array([], dtype=float)"
      ],
      "metadata": {
        "id": "egMMSks1HpvO"
      },
      "execution_count": null,
      "outputs": []
    },
    {
      "cell_type": "code",
      "source": [
        "# ────────────────────────────────\n",
        "# 3. Entrenamiento , eta=0.1\n",
        "# ────────────────────────────────\n",
        "w_and, b_and, errors_and = train_perceptron\n",
        "w_or,  b_or,  errors_or  = train_perceptron\n",
        "\n",
        "print(\"Pesos AND:\", w_and, \"   Sesgo AND:\", b_and)\n",
        "print(\"Pesos OR :\", w_or,  \"   Sesgo OR :\", b_or)"
      ],
      "metadata": {
        "id": "Z2HVESRsHudS"
      },
      "execution_count": null,
      "outputs": []
    },
    {
      "cell_type": "code",
      "source": [
        "# ────────────────────────────────\n",
        "# 4. Predicciones finales\n",
        "# ────────────────────────────────\n",
        "y_pred_and = predict\n",
        "y_pred_or  = predict\n",
        "\n",
        "# Para la comparación real-predicho usamos valores redondeados (0/1)\n",
        "y_pred_and_bin = np.round(y_pred_and)\n",
        "y_pred_or_bin  = np.round(y_pred_or)"
      ],
      "metadata": {
        "id": "guLc_R-cHuf4"
      },
      "execution_count": null,
      "outputs": []
    },
    {
      "cell_type": "code",
      "source": [
        "# ────────────────────────────────\n",
        "# 5. Gráfico 1 – Evolución del error\n",
        "# ────────────────────────────────\n",
        "plt.figure(figsize=(6, 4))\n",
        "\n",
        "plt.plot()\n",
        "plt.plot()\n",
        "\n",
        "plt.xlabel(\"Época\")\n",
        "plt.ylabel(\"Error absoluto acumulado\")\n",
        "plt.ylim(-0.5, 4.5)\n",
        "plt.title(\"Convergencia del perceptrón\")\n",
        "\n",
        "\n",
        "\n",
        "plt.show()"
      ],
      "metadata": {
        "id": "eOqh4OfAHuiU"
      },
      "execution_count": null,
      "outputs": []
    },
    {
      "cell_type": "code",
      "source": [
        "# ────────────────────────────────\n",
        "# 6. Gráfico 2 – Real vs. Predicho\n",
        "# ────────────────────────────────\n",
        "labels = []\n",
        "x = np.arange(len(labels))\n",
        "width = 0.35\n",
        "\n",
        "fig, axs = plt.subplots(1, 2, figsize=(9, 3), sharey=True)\n",
        "\n",
        "# AND\n",
        "axs[0].bar(x - width/2, y_and,        width, label=\"Real\")\n",
        "axs[0].bar(x + width/2, y_pred_and_bin, width, label=\"Predicho\")\n",
        "axs[0].set_xticks(x)\n",
        "axs[0].set_xticklabels(labels)\n",
        "axs[0].set_title(\"AND\")\n",
        "axs[0].set_ylabel(\"Salida\")\n",
        "\n",
        "# OR\n",
        "axs[1].bar(x - width/2, y_or,        width, label=\"Real\")\n",
        "axs[1].bar(x + width/2, y_pred_or_bin, width, label=\"Predicho\")\n",
        "axs[1].set_xticks(x)\n",
        "axs[1].set_xticklabels(labels)\n",
        "axs[1].set_title(\"OR\")\n",
        "\n",
        "for ax in axs:\n",
        "    ax.set_ylim(-0.1, 1.1)\n",
        "    ax.legend()\n",
        "\n",
        "fig.suptitle(\"Comparación Real vs. Predicho\")\n",
        "plt.tight_layout()\n",
        "plt.show()"
      ],
      "metadata": {
        "id": "vNjN0QEhHpyK"
      },
      "execution_count": null,
      "outputs": []
    },
    {
      "cell_type": "markdown",
      "source": [
        "# Pandas"
      ],
      "metadata": {
        "id": "DwDXv5nSHTGC"
      }
    },
    {
      "cell_type": "markdown",
      "source": [
        "## Análisis con Pandas\n",
        "\n",
        "El objetivo de este proyecto es dominar el análisis exploratorio de datos (EDA) en un contexto bancario utilizando **Pandas** y **Seaborn**.\n",
        "\n",
        "---\n",
        "\n",
        "## 🎯 Objetivos del proyecto\n",
        "\n",
        "1. Explorar un conjunto de datos bancarios con Pandas.  \n",
        "2. Construir tablas dinámicas (*pivot tables*).  \n",
        "3. Visualizar el conjunto de datos con distintos tipos de gráficas mediante Seaborn.\n",
        "\n",
        "---\n",
        "\n",
        "## 🗂️ Estructura general\n",
        "\n",
        "- **Materiales y métodos**  \n",
        "- **Parte general**  \n",
        "  - Importación de librerías  \n",
        "  - Exploración del *dataset*  \n",
        "  - Tablas dinámicas  \n",
        "  - Visualización con Seaborn  \n",
        "- **Tareas / Desafíos**\n",
        "\n",
        "---\n",
        "\n",
        "## 🔧 1. Librerías\n",
        "```python\n",
        "import pandas as pd\n",
        "import seaborn as sns\n",
        "import matplotlib.pyplot as plt\n",
        "\n",
        "%matplotlib inline\n",
        "sns.set_theme(style=\"whitegrid\")  # Estilo por defecto\n"
      ],
      "metadata": {
        "id": "3GRuMdwaPepT"
      }
    },
    {
      "cell_type": "markdown",
      "source": [
        "## 🔍 2. Carga y exploración del dataset"
      ],
      "metadata": {
        "id": "xJlxbEFKQh5T"
      }
    },
    {
      "cell_type": "markdown",
      "source": [
        "Los datos usados en este proyecto proceden de una porción del conjunto de marketing bancario de libre acceso alojado en el repositorio **UCI Machine Learning** (consulta las condiciones de cita en: [https://archive.ics.uci.edu/ml/citation\\_policy.html](https://archive.ics.uci.edu/ml/citation_policy.html)).\n",
        "El dataset, descrito originalmente en *Moro et al., 2014*, está a disposición libremente.\n",
        "\n",
        "El objetivo general es llevar a cabo un análisis preliminar que ayude a identificar qué clientes aceptarían la oferta de un **depósito a plazo** tras recibir una llamada del banco. En otras palabras, buscamos calificar a los clientes potenciales según sus rasgos —por ejemplo, anticipar si incumplirán un préstamo o si abrirán un depósito— a partir de su perfil.\n",
        "\n",
        "En este proyecto, nos plantearemos varias preguntas clave sobre la base de los datos:\n",
        "\n",
        "1. ¿Qué porcentaje de clientes aceptan la oferta?\n",
        "2. Entre los clientes que aceptan la oferta, ¿cuáles son los valores promedio de las variables numéricas más relevantes?\n",
        "3. ¿Cuánto dura, en promedio, la llamada de aquellos que terminan aceptando?\n",
        "4. ¿Cuál es la edad media de los clientes captados que además están solteros?\n",
        "5. ¿Cómo varían la edad media y la duración de la llamada según las distintas ocupaciones?\n",
        "\n",
        "Por último, complementaremos el estudio con visualizaciones que faciliten diseñar campañas de marketing bancario más efectivas."
      ],
      "metadata": {
        "id": "1MX6C6e2vFSt"
      }
    },
    {
      "cell_type": "markdown",
      "source": [
        "Inicia cargando el dataset."
      ],
      "metadata": {
        "id": "MHG8TbR1lQLl"
      }
    },
    {
      "cell_type": "code",
      "source": [
        "df ="
      ],
      "metadata": {
        "id": "5zURLYfcDnco"
      },
      "execution_count": null,
      "outputs": []
    },
    {
      "cell_type": "markdown",
      "source": [
        "### Información del dataset"
      ],
      "metadata": {
        "id": "i19K3-NARYVl"
      }
    },
    {
      "cell_type": "markdown",
      "source": [
        "Muestra los nombres de las columnas"
      ],
      "metadata": {
        "id": "eYi5LN0OS_ft"
      }
    },
    {
      "cell_type": "code",
      "source": [],
      "metadata": {
        "id": "zcKXxkNpRTx0"
      },
      "execution_count": null,
      "outputs": []
    },
    {
      "cell_type": "markdown",
      "source": [
        "Imprime la Información general del dataset"
      ],
      "metadata": {
        "id": "VCHK6vNsTKJl"
      }
    },
    {
      "cell_type": "markdown",
      "source": [
        "Columnas del *dataset* y su descripción\n",
        "\n",
        "| Nº | Nombre de la columna        | Descripción (español)                                                                          | Tipo / Valores posibles                                                                                                                                                  |\n",
        "| -- | --------------------------- | ---------------------------------------------------------------------------------------------- | ------------------------------------------------------------------------------------------------------------------------------------------------------------------------ |\n",
        "| 1  | **age**                     | Edad del cliente (en años).                                                                    | Numérica                                                                                                                                                                 |\n",
        "| 2  | **job**                     | Tipo de ocupación.                                                                             | Categórica: `admin.`, `blue-collar`, `entrepreneur`, `housemaid`, `management`, `retired`, `self-employed`, `services`, `student`, `technician`, `unemployed`, `unknown` |\n",
        "| 3  | **marital**                 | Estado civil.                                                                                  | Categórica: `divorced`, `married`, `single`, `unknown`                                                                                                                   |\n",
        "| 4  | **education**               | Nivel educativo.                                                                               | Categórica: `basic.4y`, `basic.6y`, `basic.9y`, `high.school`, `illiterate`, `professional.course`, `university.degree`, `unknown`                                       |\n",
        "| 5  | **default**                 | ¿Tiene créditos en mora?                                                                       | Categórica: `no`, `yes`, `unknown`                                                                                                                                       |\n",
        "| 6  | **housing**                 | ¿Tiene préstamo hipotecario?                                                                   | Categórica: `no`, `yes`, `unknown`                                                                                                                                       |\n",
        "| 7  | **loan**                    | ¿Tiene préstamo personal?                                                                      | Categórica: `no`, `yes`, `unknown`                                                                                                                                       |\n",
        "| 8  | **contact**                 | Medio de contacto.                                                                             | Categórica: `cellular`, `telephone`                                                                                                                                      |\n",
        "| 9  | **month**                   | Mes del último contacto.                                                                       | Categórica: `jan`, `feb`, `mar`, …, `nov`, `dec`                                                                                                                         |\n",
        "| 10 | **day\\_of\\_week**           | Día de la semana del último contacto.                                                          | Categórica: `mon`, `tue`, `wed`, `thu`, `fri`                                                                                                                            |\n",
        "| 11 | **duration**                | Duración del último contacto (segundos).                                                       | Numérica                                                                                                                                                                 |\n",
        "| 12 | **campaign**                | Número de contactos realizados con este cliente en la campaña actual (incluye el último).      | Numérica                                                                                                                                                                 |\n",
        "| 13 | **pdays**                   | Días transcurridos desde el contacto anterior en la campaña previa (`999` → nunca contactado). | Numérica                                                                                                                                                                 |\n",
        "| 14 | **previous**                | Nº de contactos previos con este cliente antes de la campaña actual.                           | Numérica                                                                                                                                                                 |\n",
        "| 15 | **poutcome**                | Resultado de la campaña de marketing anterior.                                                 | Categórica: `failure`, `nonexistent`, `success`                                                                                                                          |\n",
        "| 16 | **emp.var.rate**            | Tasa de variación del empleo (trimestral).                                                     | Numérica                                                                                                                                                                 |\n",
        "| 17 | **cons.price.idx**          | Índice de precios al consumidor (mensual).                                                     | Numérica                                                                                                                                                                 |\n",
        "| 18 | **cons.conf.idx**           | Índice de confianza del consumidor (mensual).                                                  | Numérica                                                                                                                                                                 |\n",
        "| 19 | **euribor3m**               | Tipo Euribor a 3 meses (diario).                                                               | Numérica                                                                                                                                                                 |\n",
        "| 20 | **nr.employed**             | Número de empleados (trimestral).                                                              | Numérica                                                                                                                                                                 |\n",
        "| 21 | **y** *(variable objetivo)* | ¿El cliente contrató un depósito a plazo?                                                      | Binaria: `yes`, `no`                                                                                                                                                     |\n"
      ],
      "metadata": {
        "id": "bycTpDD0v7Ec"
      }
    },
    {
      "cell_type": "code",
      "source": [
        "print()"
      ],
      "metadata": {
        "id": "4IP2lM2ATLe9"
      },
      "execution_count": null,
      "outputs": []
    },
    {
      "cell_type": "markdown",
      "source": [
        "¿Está el dataset completo? Recuerda que en la columna **y** se encuentra el valor que nos dice si la persona aceptó o no un depósito a plazo."
      ],
      "metadata": {
        "id": "81pAtM_Ty88b"
      }
    },
    {
      "cell_type": "markdown",
      "source": [
        "Describe los datos numéricos del dataset y conoce tus datos"
      ],
      "metadata": {
        "id": "zAp3oR75uVDs"
      }
    },
    {
      "cell_type": "code",
      "source": [],
      "metadata": {
        "id": "sfaUyl82RUDM"
      },
      "execution_count": null,
      "outputs": []
    },
    {
      "cell_type": "markdown",
      "source": [
        "* ¿Cuál es la edad media de los clientes? $\\to$"
      ],
      "metadata": {
        "id": "PI-LvASimmby"
      }
    },
    {
      "cell_type": "markdown",
      "source": [
        "Describe los datos categóricos del dataset , puedes utilizar ``object``"
      ],
      "metadata": {
        "id": "SD3d4EbJuZup"
      }
    },
    {
      "cell_type": "code",
      "source": [],
      "metadata": {
        "id": "E70NKXXeR-78"
      },
      "execution_count": null,
      "outputs": []
    },
    {
      "cell_type": "markdown",
      "source": [
        "Refiriéndose a la mayor cantidad de elementos en cada columna `top`\n",
        "* ¿cuál es el trabajo más común? $\\to$\n",
        "* sobre el estado marital. $\\to$\n",
        "* sobre el nivel educativo. $\\to$"
      ],
      "metadata": {
        "id": "XewfRp7ozkGa"
      }
    },
    {
      "cell_type": "markdown",
      "source": [
        "De las personas que aceptarían el depósito a plazo (variable **y**). ¿Cuántas lo aceptaron y cuántos no?\n",
        "\n",
        "**Tip:** Usa `value_counts`"
      ],
      "metadata": {
        "id": "jzO8ehzy0Cit"
      }
    },
    {
      "cell_type": "code",
      "source": [],
      "metadata": {
        "id": "J6EDvFmESHva"
      },
      "execution_count": null,
      "outputs": []
    },
    {
      "cell_type": "markdown",
      "source": [
        "Represéntalo gráficamente usando `countplot`"
      ],
      "metadata": {
        "id": "rWTlv_ON0Tfo"
      }
    },
    {
      "cell_type": "code",
      "source": [],
      "metadata": {
        "id": "VuRWv4FCUE1e"
      },
      "execution_count": null,
      "outputs": []
    },
    {
      "cell_type": "markdown",
      "source": [
        "¿Cuál es el estatus marital de los clientes? ¿En qué **proporción** se encuentran?\n",
        "\n",
        "**Tip:** usa `value_counts` y `normalize`"
      ],
      "metadata": {
        "id": "4bye_0b10aum"
      }
    },
    {
      "cell_type": "code",
      "source": [],
      "metadata": {
        "id": "hHZyuNsGR--s"
      },
      "execution_count": null,
      "outputs": []
    },
    {
      "cell_type": "markdown",
      "source": [
        "* ¿Cuál es la **proporción** de clientes que se encuentran **casados**? $\\to$"
      ],
      "metadata": {
        "id": "rfEeZPCXodEM"
      }
    },
    {
      "cell_type": "markdown",
      "source": [
        "Represéntalo usando `pie` de seaborn"
      ],
      "metadata": {
        "id": "GoU9GXnY02Hf"
      }
    },
    {
      "cell_type": "code",
      "source": [
        "marital_counts =\n",
        "\n",
        "plt.figure(figsize=(8, 6))\n",
        "plt.title(\"Marital Status Distribution\")\n",
        "sns.set_theme(style=\"whitegrid\")\n",
        "\n",
        "\n",
        "\n",
        "plt.ylabel(\"\")\n",
        "plt.show()"
      ],
      "metadata": {
        "id": "ETgUi8j3UZq9"
      },
      "execution_count": null,
      "outputs": []
    },
    {
      "cell_type": "markdown",
      "source": [
        "¿Los resultados son concordantes con lo que te brindó la información al inicio? $\\to (Sí/No)$"
      ],
      "metadata": {
        "id": "z-XCqhIL1coE"
      }
    },
    {
      "cell_type": "markdown",
      "source": [
        "### Ordenar los datos"
      ],
      "metadata": {
        "id": "FtcxfDiySLVD"
      }
    },
    {
      "cell_type": "markdown",
      "source": [
        "No interesa ofertar **depósitos a plazo** a nuevos clientes, para ello se realizan llamadas para contactarlos y cada llamada tiene una duración.\n",
        "\n",
        "Ordena los datos de acuerdo a `duration` y de forma Descendente."
      ],
      "metadata": {
        "id": "dBbVmWjD10uC"
      }
    },
    {
      "cell_type": "code",
      "source": [],
      "metadata": {
        "id": "uRDUV4j5R_BU"
      },
      "execution_count": null,
      "outputs": []
    },
    {
      "cell_type": "markdown",
      "source": [
        "¿Durante qué meses se produjeron las llamadas más largas?\n",
        "\n",
        "Represéntalo gráficamente usando `barplot`."
      ],
      "metadata": {
        "id": "-Vj7Ytjr4gH3"
      }
    },
    {
      "cell_type": "code",
      "source": [
        "df_duration =\n",
        "df_duration.reset_index\n",
        "top_durations = df_duration.head(x)\n",
        "\n",
        "plt.figure(figsize=(10, 6))\n",
        "\n",
        "\n",
        "plt.xlabel(\"Duración\")\n",
        "plt.ylabel(\"Meses\")\n",
        "plt.show()"
      ],
      "metadata": {
        "id": "Quju5_a6U4XO"
      },
      "execution_count": null,
      "outputs": []
    },
    {
      "cell_type": "markdown",
      "source": [
        "¿Cuál fue la menor edad y mayor duración en las llamadas realizadas?\n",
        "\n",
        "**Tip:** Ordena en base a `age` y `duration`."
      ],
      "metadata": {
        "id": "Zpt9FkU34ySC"
      }
    },
    {
      "cell_type": "code",
      "source": [],
      "metadata": {
        "id": "OXiXvOYHR_EN"
      },
      "execution_count": null,
      "outputs": []
    },
    {
      "cell_type": "markdown",
      "source": [
        "Grafica un `barplot` usando solo los primeros 5 elementos del orden generado previamente."
      ],
      "metadata": {
        "id": "d8d-8cdwqP2U"
      }
    },
    {
      "cell_type": "code",
      "source": [
        "df_edad_duration =\n",
        "df_edad_duration.reset_index\n",
        "top_edad_durations = df_edad_duration.head(x)\n",
        "\n",
        "plt.figure(figsize=(10, 6))\n",
        "\n",
        "\n",
        "\n",
        "plt.xlabel(\"Edad\")\n",
        "plt.ylabel(\"Duración\")\n",
        "plt.show()"
      ],
      "metadata": {
        "id": "Lxk-Aaqn5H42"
      },
      "execution_count": null,
      "outputs": []
    },
    {
      "cell_type": "markdown",
      "source": [
        "* Para que una llamada sea efectiva debe ser cora y directa. De acuerdo al análisis ¿crees que las llamadas están siendo efectivas con los jóvenes? $\\to$"
      ],
      "metadata": {
        "id": "sLktlusCrCbp"
      }
    },
    {
      "cell_type": "markdown",
      "source": [
        "### Aplicar funciones"
      ],
      "metadata": {
        "id": "pxK7v1QJSQtE"
      }
    },
    {
      "cell_type": "markdown",
      "source": [
        "Esposible aplicar funciones directamente hacia los `panda.Series` o columnas o en un dataframe completo.\n",
        "\n",
        "Vamos a encontrar los valores **máximos** para cada columna usando `apply`"
      ],
      "metadata": {
        "id": "qAmEt9AN54bF"
      }
    },
    {
      "cell_type": "code",
      "source": [],
      "metadata": {
        "id": "UmIHFpvKR_Gk"
      },
      "execution_count": null,
      "outputs": []
    },
    {
      "cell_type": "markdown",
      "source": [
        "* ¿Cuál es la edad del cliente más longevo? $\\to$\n",
        "* ¿Cuál es la cantidad de llamadas a un solo contacto durante una campaña? $\\to$"
      ],
      "metadata": {
        "id": "YJzTHErmrSXG"
      }
    },
    {
      "cell_type": "markdown",
      "source": [
        "Sabemos que la columna **y** es importante para nuestro análisis, esta columna es binaria. Usualmente es conveniente convertir los datos categóricos en `y` hacia `0` y `1` usando `map`."
      ],
      "metadata": {
        "id": "xC4NxYgV6H-G"
      }
    },
    {
      "cell_type": "code",
      "source": [],
      "metadata": {
        "id": "7QLpWIeVSSUu"
      },
      "execution_count": null,
      "outputs": []
    },
    {
      "cell_type": "markdown",
      "source": [
        "### Indexación"
      ],
      "metadata": {
        "id": "G08grQnPSW60"
      }
    },
    {
      "cell_type": "markdown",
      "source": [
        "¿Cuál es la media de los clientes interesados en obtener un contrato de depósito? y ¿cuál es la proporción respecto al total en **y**?\n",
        "\n",
        "**Tip:** Usa la columna **y**."
      ],
      "metadata": {
        "id": "GCFLE32I7E6s"
      }
    },
    {
      "cell_type": "code",
      "source": [],
      "metadata": {
        "id": "jLon1KkaSSXU"
      },
      "execution_count": null,
      "outputs": []
    },
    {
      "cell_type": "markdown",
      "source": [
        "* ¿Es un porcentage bajo o alto para un banco? $\\to$"
      ],
      "metadata": {
        "id": "2n63XRuq7TYo"
      }
    },
    {
      "cell_type": "markdown",
      "source": [
        "¿Cuál es la media en los datos totales para los clientes que **SÍ** contratarían un depósito?\n",
        "\n",
        "**Tip:** Usan decribe en **y**"
      ],
      "metadata": {
        "id": "mWS6kVoz7adn"
      }
    },
    {
      "cell_type": "code",
      "source": [],
      "metadata": {
        "id": "RK7gTgrM7e-D"
      },
      "execution_count": null,
      "outputs": []
    },
    {
      "cell_type": "markdown",
      "source": [
        "* ¿Cuál es la media de la edad de los clientes que **SÍ** aceptarián un depósito a plazo a los que deberíamos llamar? $\\to$"
      ],
      "metadata": {
        "id": "wIfp1mIW8Rd6"
      }
    },
    {
      "cell_type": "markdown",
      "source": [
        "Si los llamaramos ¿Cuánto tiempo necesitaríamos en promedio para convencerlos?\n",
        "\n",
        "**Tip:** Recuerda usar la columna **y** y **duration**."
      ],
      "metadata": {
        "id": "nXbrPjwQ8d6Z"
      }
    },
    {
      "cell_type": "code",
      "source": [],
      "metadata": {
        "id": "i_qpUnlPRULP"
      },
      "execution_count": null,
      "outputs": []
    },
    {
      "cell_type": "markdown",
      "source": [
        "¿Cuál es la edad promedio de los clientes que **SÍ** aceptarián un depósito a plazo y se encuentran solteros?\n",
        "\n",
        "**Tip:** Usa *boleanos*"
      ],
      "metadata": {
        "id": "EJErn2LQ8pKw"
      }
    },
    {
      "cell_type": "code",
      "source": [],
      "metadata": {
        "id": "wyVIrZVpSbJk"
      },
      "execution_count": null,
      "outputs": []
    },
    {
      "cell_type": "markdown",
      "source": [
        "¿Cuál es la información de la última persona a quién se le llamó?"
      ],
      "metadata": {
        "id": "araA1F5B87HM"
      }
    },
    {
      "cell_type": "code",
      "source": [],
      "metadata": {
        "id": "LGMDPUTXSbMU"
      },
      "execution_count": null,
      "outputs": []
    },
    {
      "cell_type": "markdown",
      "source": [
        "### Tablas Pivote"
      ],
      "metadata": {
        "id": "a06m06XoSdbU"
      }
    },
    {
      "cell_type": "markdown",
      "source": [
        "¿Cuál es el estado marital de los clientes?\n",
        "\n",
        "**Tip:** Usa `crosstab` y analiza en **y**"
      ],
      "metadata": {
        "id": "NzfFGzlm9JVV"
      }
    },
    {
      "cell_type": "code",
      "source": [],
      "metadata": {
        "id": "LfKKOBJWSbOz"
      },
      "execution_count": null,
      "outputs": []
    },
    {
      "cell_type": "markdown",
      "source": [
        "¿Y la proporción de ellos?\n",
        "\n",
        "**Tip:** Usa `crosstab` y `normalze= \"index\" `"
      ],
      "metadata": {
        "id": "COo7q6gG9YvH"
      }
    },
    {
      "cell_type": "code",
      "source": [],
      "metadata": {
        "id": "UR_xAm8JSbRZ"
      },
      "execution_count": null,
      "outputs": []
    },
    {
      "cell_type": "markdown",
      "source": [
        "¿Cuál es la media de la **edad** y **duración** de la llamada respecto del **trabajo** desempeñado?\n",
        "\n",
        "**Tip:** Usa `pivot_table`"
      ],
      "metadata": {
        "id": "t6xlYoAh9nbg"
      }
    },
    {
      "cell_type": "code",
      "source": [],
      "metadata": {
        "id": "jDhkxQ0rSg3F"
      },
      "execution_count": null,
      "outputs": []
    },
    {
      "cell_type": "markdown",
      "source": [
        "## 📊 3. Visualizaciones Adicionales"
      ],
      "metadata": {
        "id": "IDx1x_4SSsF_"
      }
    },
    {
      "cell_type": "markdown",
      "source": [
        "Muchas veces al tener muchas variables (columnas), es complicado analizar o llevarlo hacia un entorno real. Para ello se analizan variables que podamos cuantificar u observar.\n",
        "\n",
        "Gracifica usando `pairplot` la relación entre *age* , *duration* y *campaign*"
      ],
      "metadata": {
        "id": "FUuuOopuvyA1"
      }
    },
    {
      "cell_type": "code",
      "source": [],
      "metadata": {
        "id": "xM0sYfwmSg50"
      },
      "execution_count": null,
      "outputs": []
    },
    {
      "cell_type": "markdown",
      "source": [
        "* ¿Qué variables siguen una distribución gaussiana o geométrica? $\\to$"
      ],
      "metadata": {
        "id": "YbFwPJej1PDn"
      }
    },
    {
      "cell_type": "markdown",
      "source": [
        "Existen casos en que hay valores que se encuentran fuera de un margen estadístico. Para ello usualmente se debe filtrar, una opción es usar quatiles.\n",
        "\n",
        "Aquí vamos a visualizar usando `boxplot` los outliers en los datos de las **edades** respecto al estado civil."
      ],
      "metadata": {
        "id": "Ja9Ra_ELA1dI"
      }
    },
    {
      "cell_type": "code",
      "source": [],
      "metadata": {
        "id": "O90I-Zg_Sg8M"
      },
      "execution_count": null,
      "outputs": []
    },
    {
      "cell_type": "markdown",
      "source": [
        "Añadamos ahora un filtro visual adicional separándolos por `housing`.\n",
        "\n",
        "**Tip:** Usa `hue`"
      ],
      "metadata": {
        "id": "J5QfCsHDA_gE"
      }
    },
    {
      "cell_type": "code",
      "source": [],
      "metadata": {
        "id": "-ZgYZf2VSbTj"
      },
      "execution_count": null,
      "outputs": []
    },
    {
      "cell_type": "markdown",
      "source": [
        "* ¿Existe alguna relación importante al conocer si tienen un préstamo para vivienda? $\\to (Sí/No)$"
      ],
      "metadata": {
        "id": "N0uO1wsIyLM3"
      }
    },
    {
      "cell_type": "markdown",
      "metadata": {
        "id": "sjPV32kCZmne"
      },
      "source": [
        "# Gracias por su participación\n",
        "\n",
        "No olvides enviar el notebook renombrándolo **Módulo1_Nombre_Apellido1_Apellido2**."
      ]
    }
  ],
  "metadata": {
    "colab": {
      "provenance": []
    },
    "kernelspec": {
      "display_name": "Python 3",
      "language": "python",
      "name": "python3"
    },
    "language_info": {
      "codemirror_mode": {
        "name": "ipython",
        "version": 3
      },
      "file_extension": ".py",
      "mimetype": "text/x-python",
      "name": "python",
      "nbconvert_exporter": "python",
      "pygments_lexer": "ipython3",
      "version": "3.6.8"
    }
  },
  "nbformat": 4,
  "nbformat_minor": 0
}