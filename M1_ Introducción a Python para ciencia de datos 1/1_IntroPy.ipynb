{
  "nbformat": 4,
  "nbformat_minor": 0,
  "metadata": {
    "colab": {
      "provenance": []
    },
    "kernelspec": {
      "name": "python3",
      "display_name": "Python 3"
    },
    "language_info": {
      "name": "python"
    }
  },
  "cells": [
    {
      "cell_type": "markdown",
      "source": [],
      "metadata": {
        "id": "gPq1g07o61oR"
      }
    },
    {
      "cell_type": "markdown",
      "source": [],
      "metadata": {
        "id": "p5q85YiorgnP"
      }
    },
    {
      "cell_type": "markdown",
      "source": [
        "# Módulo Semana 1: Introducción a Python\n",
        "# Curso en Google Colab\n",
        "\n",
        "### Clase 1: Fundamentos de Python\n",
        "\n",
        "# ¿Qué es Python?\n",
        "\"\"\"\n",
        "Python es un lenguaje de programación interpretado, de alto nivel, fácil de aprender y muy usado\n",
        "para desarrollo web, automatización, análisis de datos, inteligencia artificial, etc.\n",
        "\"\"\""
      ],
      "metadata": {
        "id": "flkItH2ACG41"
      }
    },
    {
      "cell_type": "code",
      "source": [
        "# Primer programa\n",
        "declaracion = \"Hola mundo!\"\n",
        "#print(declaracion)"
      ],
      "metadata": {
        "id": "FTpytvcf63jS"
      },
      "execution_count": null,
      "outputs": []
    },
    {
      "cell_type": "code",
      "source": [
        "# Variables y tipos\n",
        "entero = 10\n",
        "flotante = 3.15\n",
        "texto = 'Python'\n",
        "booleano = True\n",
        "\n",
        "print(int(flotante))\n",
        "#print(type(entero), type(flotante), type(texto), type(booleano))"
      ],
      "metadata": {
        "colab": {
          "base_uri": "https://localhost:8080/"
        },
        "id": "KQTSna737KbY",
        "outputId": "f2039715-e45f-4250-962c-11d674ce21b0"
      },
      "execution_count": null,
      "outputs": [
        {
          "output_type": "stream",
          "name": "stdout",
          "text": [
            "3\n"
          ]
        }
      ]
    },
    {
      "cell_type": "code",
      "source": [
        "# Conversión de tipos\n",
        "print(float(entero))\n",
        "print(texto)"
      ],
      "metadata": {
        "colab": {
          "base_uri": "https://localhost:8080/"
        },
        "id": "CYIuRohx7Mtw",
        "outputId": "c820d45e-96ff-405f-e470-5f6168fb7851"
      },
      "execution_count": null,
      "outputs": [
        {
          "output_type": "stream",
          "name": "stdout",
          "text": [
            "10.0\n",
            "Python\n"
          ]
        }
      ]
    },
    {
      "cell_type": "code",
      "source": [
        "# Operaciones básicas\n",
        "a = 5\n",
        "b = 2\n",
        "print(a + b, a - b, a * b, a / b, a ** b) #pow(a,b)\n",
        "print(a // b, a % b)"
      ],
      "metadata": {
        "colab": {
          "base_uri": "https://localhost:8080/"
        },
        "id": "F5P3IICq7OSg",
        "outputId": "d898198e-d0ba-4a79-8c9b-a8b27d0b6b53"
      },
      "execution_count": null,
      "outputs": [
        {
          "output_type": "stream",
          "name": "stdout",
          "text": [
            "7 3 10 2.5 25\n",
            "2 1\n"
          ]
        }
      ]
    },
    {
      "cell_type": "code",
      "source": [
        "# Comparaciones y operadores lógicos\n",
        "x = 10\n",
        "y = 20\n",
        "print(x < y, x == y, x != y)\n",
        "print(x < y or y > 25) #V v F = V || V ^ F = F"
      ],
      "metadata": {
        "colab": {
          "base_uri": "https://localhost:8080/"
        },
        "id": "arLfodCY7b7o",
        "outputId": "34194306-b031-45ee-93b1-32237019ba6e"
      },
      "execution_count": null,
      "outputs": [
        {
          "output_type": "stream",
          "name": "stdout",
          "text": [
            "True False True\n",
            "True\n"
          ]
        }
      ]
    },
    {
      "cell_type": "code",
      "source": [
        "# Strings y métodos\n",
        "nombre = \"ana perez\"\n",
        "print(nombre.upper(), nombre.capitalize(), nombre.replace(\"a\", \"@\"))\n",
        "\n",
        "nombre2 = \"Em1l10\"\n",
        "print(nombre2.replace(\"1\",\"i\"), nombre2.replace(\"0\",\"o\"))"
      ],
      "metadata": {
        "colab": {
          "base_uri": "https://localhost:8080/"
        },
        "id": "gyP8OX7h7eFo",
        "outputId": "89ba46b0-d9dc-4279-fb18-818aecd1fe80"
      },
      "execution_count": null,
      "outputs": [
        {
          "output_type": "stream",
          "name": "stdout",
          "text": [
            "ANA PEREZ Ana perez @n@ perez\n",
            "Emili0 Em1l1o\n"
          ]
        }
      ]
    },
    {
      "cell_type": "code",
      "source": [
        "# Slicing y concatenación\n",
        "mensaje = \"Hola, mundo!\"\n",
        "print(mensaje[0:4], mensaje[-6:])"
      ],
      "metadata": {
        "colab": {
          "base_uri": "https://localhost:8080/"
        },
        "id": "59-gvZSf7f1g",
        "outputId": "edd388e4-0021-4095-c50c-3964dd0bd0bd"
      },
      "execution_count": null,
      "outputs": [
        {
          "output_type": "stream",
          "name": "stdout",
          "text": [
            "Hola mundo!\n"
          ]
        }
      ]
    },
    {
      "cell_type": "code",
      "source": [
        "# Funciones\n",
        "def saludar(nombre):\n",
        "    return f\"Hola, {nombre}!\"\n",
        "\n",
        "print(saludar(\"Carlos\"))"
      ],
      "metadata": {
        "colab": {
          "base_uri": "https://localhost:8080/"
        },
        "id": "HL5nQmev7jno",
        "outputId": "5279a3fc-9d8a-48dd-e0f7-f7257738a58e"
      },
      "execution_count": null,
      "outputs": [
        {
          "output_type": "stream",
          "name": "stdout",
          "text": [
            "Mi edad es , 50!\n"
          ]
        }
      ]
    },
    {
      "cell_type": "code",
      "source": [
        "# Funciones integradas\n",
        "print(len(nombre), sum([1, 2, 3]), max([5, 2, 8]))"
      ],
      "metadata": {
        "colab": {
          "base_uri": "https://localhost:8080/"
        },
        "id": "mx0neql87pBI",
        "outputId": "8453dc51-b6e7-4a91-bfde-2aa2cdd8188f"
      },
      "execution_count": null,
      "outputs": [
        {
          "output_type": "stream",
          "name": "stdout",
          "text": [
            "9 6 8\n"
          ]
        }
      ]
    },
    {
      "cell_type": "code",
      "source": [
        "### Clase 2: Estructuras, control y arrays\n",
        "\n",
        "# Listas\n",
        "frutas = [\"manzana\", \"pera\", \"uva\"]\n",
        "frutas.append(\"banana\")\n",
        "print(frutas)\n",
        "print(frutas[3], len(frutas)) #LEN"
      ],
      "metadata": {
        "colab": {
          "base_uri": "https://localhost:8080/"
        },
        "id": "gMnYGgho8jhw",
        "outputId": "db9845b1-f890-4fec-a1cf-0ace7a5527f1"
      },
      "execution_count": null,
      "outputs": [
        {
          "output_type": "stream",
          "name": "stdout",
          "text": [
            "['manzana', 'pera', 'uva', 'banana']\n",
            "banana 4\n"
          ]
        }
      ]
    },
    {
      "cell_type": "code",
      "source": [
        "# Tuplas\n",
        "punto = (3, 4)\n",
        "print(punto[0])"
      ],
      "metadata": {
        "colab": {
          "base_uri": "https://localhost:8080/"
        },
        "id": "i-TcE7hK8mp_",
        "outputId": "530dd45e-4551-4ea1-edfd-59d59c76250e"
      },
      "execution_count": null,
      "outputs": [
        {
          "output_type": "stream",
          "name": "stdout",
          "text": [
            "3\n"
          ]
        }
      ]
    },
    {
      "cell_type": "code",
      "source": [
        "# Diccionarios\n",
        "persona = {\"nombre\": \"Ana\", \"edad\": 30}\n",
        "print(persona[\"nombre\"], persona.get(\"edad\"))\n",
        "persona[\"ciudad\"] = \"Lima\"\n",
        "print(persona)"
      ],
      "metadata": {
        "colab": {
          "base_uri": "https://localhost:8080/"
        },
        "id": "qAyNIBti8os3",
        "outputId": "0a3f67ab-0642-460e-ca21-b439859b58c2"
      },
      "execution_count": null,
      "outputs": [
        {
          "output_type": "stream",
          "name": "stdout",
          "text": [
            "Ana 30\n",
            "{'nombre': 'Ana', 'edad': 30, 'ciudad': 'Lima'}\n"
          ]
        }
      ]
    },
    {
      "cell_type": "code",
      "source": [
        "# Control de flujo\n",
        "edad = 8\n",
        "\n",
        "if edad >= 18:\n",
        "    print(\"Es mayor de edad\")\n",
        "elif edad > 12: #Similar a Case en C/C++\n",
        "    print(\"Es adolescente\")\n",
        "else:\n",
        "    print(\"Es niño\")"
      ],
      "metadata": {
        "colab": {
          "base_uri": "https://localhost:8080/"
        },
        "id": "_PGp62HO8qq_",
        "outputId": "87e7f7c0-4dbd-426d-f5a4-3b99c88e0af1"
      },
      "execution_count": null,
      "outputs": [
        {
          "output_type": "stream",
          "name": "stdout",
          "text": [
            "Es niño\n"
          ]
        }
      ]
    },
    {
      "cell_type": "code",
      "source": [
        "#For\n",
        "#for i in range (10):\n",
        " # print(i)\n",
        "\n",
        "numeros = [1,2,3,4,5]\n",
        "suma = 0\n",
        "\n",
        "for numero in numeros:\n",
        "  suma += numero\n",
        "\n",
        "  print(suma)\n",
        "\n",
        "\n",
        "#suma = 0\n",
        "#for i in range (0, 10,2):\n",
        "# suma += i\n",
        "# print(suma)"
      ],
      "metadata": {
        "colab": {
          "base_uri": "https://localhost:8080/"
        },
        "id": "9iL3zWsC3SVo",
        "outputId": "4784ef05-ebae-488e-cbc4-310de05a6a8d"
      },
      "execution_count": null,
      "outputs": [
        {
          "output_type": "stream",
          "name": "stdout",
          "text": [
            "1\n",
            "3\n",
            "6\n",
            "10\n",
            "15\n"
          ]
        }
      ]
    },
    {
      "cell_type": "code",
      "source": [
        "# Lectura de archivos (simulado)\n",
        "contenido = \"Linea 1\\nLinea 2\\nLinea 3\" #Alt 9\n",
        "\n",
        "\n",
        "\n",
        "for linea in contenido.splitlines():\n",
        "    print(\" \", linea)"
      ],
      "metadata": {
        "colab": {
          "base_uri": "https://localhost:8080/"
        },
        "id": "OkNwjwHn8trX",
        "outputId": "918e69c5-8912-4d77-89f8-1170ec30b307"
      },
      "execution_count": null,
      "outputs": [
        {
          "output_type": "stream",
          "name": "stdout",
          "text": [
            "  Linea 1\n",
            "  Linea 2\n",
            "  Linea 3\n"
          ]
        }
      ]
    },
    {
      "cell_type": "code",
      "source": [
        "# Funciones con estructuras\n",
        "def contar_edades(lista):\n",
        "    return sum([1 for edad in lista if edad >= 18])\n",
        "\n",
        "print(contar_edades([10, 15, 20, 30]))"
      ],
      "metadata": {
        "colab": {
          "base_uri": "https://localhost:8080/"
        },
        "id": "iREFcea_8vtv",
        "outputId": "25bc60cd-3bb7-43c1-e45c-ebbd111fccf4"
      },
      "execution_count": null,
      "outputs": [
        {
          "output_type": "stream",
          "name": "stdout",
          "text": [
            "2\n"
          ]
        }
      ]
    },
    {
      "cell_type": "code",
      "source": [
        "# Arrays o vector y matrices\n",
        "vector = [1, 2, 3]\n",
        "matriz = [[1, 2], [3, 4]]\n",
        "print(vector[1], matriz[1][0])"
      ],
      "metadata": {
        "colab": {
          "base_uri": "https://localhost:8080/"
        },
        "id": "JU0ZiE688xg3",
        "outputId": "742867e6-1751-4b6d-ffe9-5fb6759c8c13"
      },
      "execution_count": null,
      "outputs": [
        {
          "output_type": "stream",
          "name": "stdout",
          "text": [
            "2 3\n"
          ]
        }
      ]
    },
    {
      "cell_type": "code",
      "source": [
        "# Suma de vectores con listas\n",
        "v1 = [1, 2, 3]\n",
        "v2 = [4, 5, 6]\n",
        "suma = [v1[i] + v2[i] for i in range(2)]\n",
        "print(\"Suma:\", suma)\n"
      ],
      "metadata": {
        "colab": {
          "base_uri": "https://localhost:8080/"
        },
        "id": "2gye7KYX8zFX",
        "outputId": "e125595d-222f-4ff1-f4be-31529bdc3fbc"
      },
      "execution_count": null,
      "outputs": [
        {
          "output_type": "stream",
          "name": "stdout",
          "text": [
            "Suma: [5, 7]\n"
          ]
        }
      ]
    },
    {
      "cell_type": "code",
      "source": [
        "# Nota final\n",
        "\"\"\"\n",
        "En la próxima sesión veremos cómo trabajar con arrays reales usando NumPy,\n",
        "una librería diseñada para cálculos numéricos eficientes.\n",
        "\"\"\""
      ],
      "metadata": {
        "id": "oKh0ndmN8zm3"
      },
      "execution_count": null,
      "outputs": []
    }
  ]
}